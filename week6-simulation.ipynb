{
 "cells": [
  {
   "cell_type": "code",
   "execution_count": 233,
   "metadata": {
    "scrolled": false
   },
   "outputs": [
    {
     "data": {
      "text/plain": [
       "<matplotlib.legend.Legend at 0x21327617488>"
      ]
     },
     "execution_count": 233,
     "metadata": {},
     "output_type": "execute_result"
    },
    {
     "data": {
      "image/png": "[encoded data removed]",
      "text/plain": [
       "<Figure size 432x288 with 1 Axes>"
      ]
     },
     "metadata": {
      "needs_background": "light"
     },
     "output_type": "display_data"
    }
   ],
   "source": [
    "import numpy as np\n",
    "import pandas as pd\n",
    "import random\n",
    "import matplotlib.pyplot as plt\n",
    "\n",
    "import statsmodels.api as sm\n",
    "\n",
    "alpha = 0.05\n",
    "p1 = 10\n",
    "p = 20\n",
    "n = 300\n",
    "M = 5000\n",
    "\n",
    "# 上帝视角下的beta\n",
    "beta = []\n",
    "for i in range(p1 + 1):\n",
    "    beta.append(1)\n",
    "for i in range(p - p1):\n",
    "    beta.append(0)\n",
    "beta = np.array(beta)\n",
    "\n",
    "# 上帝视角下的y0\n",
    "x0 = [1]\n",
    "for i in range(p):\n",
    "    x0.append(0.05)\n",
    "x0 = np.array(x0)\n",
    "y0 = np.dot(x0, beta)\n",
    "\n",
    "bias2 = []\n",
    "var = []\n",
    "mse = []\n",
    "for k in range(2, 21):\n",
    "    y0_hat = []\n",
    "    for itera in range(M):\n",
    "        X = np.random.normal(loc =0.0 , scale= 0.2, size = (300,20))\n",
    "        X = np.column_stack((np.ones(n), X))\n",
    "\n",
    "        epsilon = np.random.normal(loc =0.0 , scale= 3, size = (1,300))\n",
    "\n",
    "        y = np.dot(X, beta) + epsilon\n",
    "        y = y.T\n",
    "        # print(y.shape)\n",
    "\n",
    "        # Do the simple linear regression\n",
    "        # OLS（endog,exog=None,missing='none',hasconst=None) (endog:因变量，exog=自变量）\n",
    "        X_k = X[:,0:k+1]\n",
    "        model = sm.OLS(y, X_k).fit()\n",
    "        beta_hat = model.params\n",
    "        for i in range(p - k):\n",
    "            beta_hat = np.append(beta_hat, 0)\n",
    "\n",
    "        y_hat = model.fittedvalues \n",
    "        model.summary()\n",
    "\n",
    "        y_mean = np.mean(y)\n",
    "        SSE = sum((y - y_hat) ** 2)\n",
    "        SST = sum((y - y_mean) ** 2)\n",
    "        SSR = sum((y_hat - y_mean) ** 2)\n",
    "\n",
    "        sigma2 = SSE / (n - p - 1)  # 方差\n",
    "        sigma = np.sqrt(sigma2)  # 标准差\n",
    "\n",
    "        y0_hat.append(np.dot(x0, beta_hat))\n",
    "\n",
    "    y0_hat_mean = np.mean(y0_hat)\n",
    "    bias2.append((np.mean(y0_hat - y0) ** 2))\n",
    "    var.append(np.mean((y0_hat - y0_hat_mean) ** 2))\n",
    "    mse.append(np.mean((y0_hat - y0) ** 2))\n",
    "\n",
    "model_type = range(2,21)\n",
    "c1 = pd.Series(bias2, index = model_type, name = 'bias2')\n",
    "c2 = pd.Series(var, index = model_type, name = 'var')\n",
    "c3 = pd.Series(mse, index = model_type, name = 'mse')\n",
    "df = pd.concat([c1, c2, c3], axis = 1)\n",
    "\n",
    "y_min = np.min(mse)\n",
    "x_min = mse.index(np.min(mse))\n",
    "plt.text(x_min, y_min, '%d' % int(x_min), ha='center', va= 'top', fontsize=15)\n",
    "# , '%.2f' % float(y_min)\n",
    "plt.plot(df.iloc[:,0], color = 'red', marker = 'o', label = 'bias2')\n",
    "plt.plot(df.iloc[:,1], color = 'green', marker = 'o', label = 'var')\n",
    "plt.plot(df.iloc[:,2], marker = 'o', label = 'mse')\n",
    "plt.xlabel('Model Type')\n",
    "plt.ylabel('Value')\n",
    "plt.legend(['bias2', 'var', 'mse'])\n"
   ]
  },
  {
   "cell_type": "code",
   "execution_count": null,
   "metadata": {},
   "outputs": [],
   "source": []
  }
 ],
 "metadata": {
  "kernelspec": {
   "display_name": "Python 3",
   "language": "python",
   "name": "python3"
  },
  "language_info": {
   "codemirror_mode": {
    "name": "ipython",
    "version": 3
   },
   "file_extension": ".py",
   "mimetype": "text/x-python",
   "name": "python",
   "nbconvert_exporter": "python",
   "pygments_lexer": "ipython3",
   "version": "3.7.10"
  }
 },
 "nbformat": 4,
 "nbformat_minor": 4
}
